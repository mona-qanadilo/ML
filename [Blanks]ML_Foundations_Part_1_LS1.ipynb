{
  "cells": [
    {
      "cell_type": "markdown",
      "metadata": {
        "id": "view-in-github",
        "colab_type": "text"
      },
      "source": [
        "<a href=\"https://colab.research.google.com/github/mona-qanadilo/ML/blob/main/%5BBlanks%5DML_Foundations_Part_1_LS1.ipynb\" target=\"_parent\"><img src=\"https://colab.research.google.com/assets/colab-badge.svg\" alt=\"Open In Colab\"/></a>"
      ]
    },
    {
      "cell_type": "markdown",
      "id": "55482191",
      "metadata": {
        "id": "55482191"
      },
      "source": [
        "# Modeling House Prices with Linear Regression\n",
        "© 2025, ZAKA AI, Inc. All Rights Reserved.\n",
        "____\n",
        "\n",
        "**Objective:** In this hands-on exercise, you will explore and compare Simple Linear Regression and Multiple Linear Regression using the California Housing dataset. The goal is to understand how using a single predictor versus multiple predictors impacts model performance in predicting housing prices.\n",
        "\n",
        "Here are the steps we need to follow:\n",
        "\n",
        "1. Load and explore the dataset  \n",
        "2. Build and evaluate a simple linear regression model  \n",
        "3. Build and evaluate a multiple linear regression model  \n",
        "4. Compare model performance  \n",
        "5. Visualize results and draw conclusions\n"
      ]
    }
  ],
  "metadata": {
    "colab": {
      "provenance": [],
      "include_colab_link": true
    },
    "language_info": {
      "name": "python"
    },
    "kernelspec": {
      "name": "python3",
      "display_name": "Python 3"
    }
  },
  "nbformat": 4,
  "nbformat_minor": 5
}